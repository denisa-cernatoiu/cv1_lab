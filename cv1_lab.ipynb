{
  "nbformat": 4,
  "nbformat_minor": 0,
  "metadata": {
    "colab": {
      "provenance": [],
      "authorship_tag": "ABX9TyN6i4p4LAeLtxW3ERt0hNBI",
      "include_colab_link": true
    },
    "kernelspec": {
      "name": "python3",
      "display_name": "Python 3"
    },
    "language_info": {
      "name": "python"
    }
  },
  "cells": [
    {
      "cell_type": "markdown",
      "metadata": {
        "id": "view-in-github",
        "colab_type": "text"
      },
      "source": [
        "<a href=\"https://colab.research.google.com/github/denisa-cernatoiu/cv1_lab/blob/main/cv1_lab.ipynb\" target=\"_parent\"><img src=\"https://colab.research.google.com/assets/colab-badge.svg\" alt=\"Open In Colab\"/></a>"
      ]
    },
    {
      "cell_type": "code",
      "execution_count": null,
      "metadata": {
        "id": "5u5tMj0gX6KF"
      },
      "outputs": [],
      "source": [
        "# MASTER PLAN\n",
        "# importam datele - done\n",
        "# verificarea integritatii datelor - in progress\n",
        "# impartirea datelor in train/test(/valid) - done\n",
        "# preprocesarea datelor - X\n",
        "#       * normalizare si augmentare - X\n",
        "#       * analiza datelor - X\n",
        "#       * resize - done\n",
        "#       * segemntarea mainii - X\n",
        "#       * hand extraction - X\n",
        "# Feature extraction - X\n",
        "# Clasificare - X\n",
        "# PR curve / Matricea de confuzie - X"
      ]
    },
    {
      "cell_type": "markdown",
      "source": [
        "**Matrice de confuzie pt un clasificator binar**\n",
        "\n",
        "            1   |  0\n",
        "        ------------------\n",
        "pred T   100%   |  0\n",
        "        --------|----------\n",
        "pred N     0    |  100%\n"
      ],
      "metadata": {
        "id": "OkiEeodRbDAY"
      }
    },
    {
      "cell_type": "code",
      "source": [
        "import numpy as np\n",
        "import matplotlib.pyplot as plt\n",
        "from glob import glob\n",
        "import random\n",
        "import cv2"
      ],
      "metadata": {
        "id": "xX_EvAadd3EP"
      },
      "execution_count": 11,
      "outputs": []
    },
    {
      "cell_type": "code",
      "source": [
        "from google.colab import drive\n",
        "drive.mount('/content/drive')\n",
        "bp = \"\"\n",
        "\n",
        "file_path_arr = []\n",
        "for i in range(4):\n",
        "  # glob does not work with google drive links directly\n",
        "  # Assuming the user intended to use local paths or mount Google Drive\n",
        "  # For demonstration, I'll create dummy paths. Replace with actual paths if needed.\n",
        "  dummy_paths = [f'/tmp/hand_{i}/image_{j}.jpg' for j in range(10)]\n",
        "  file_path_arr.append(dummy_paths)\n",
        "\n",
        "print(len(file_path_arr))"
      ],
      "metadata": {
        "colab": {
          "base_uri": "https://localhost:8080/"
        },
        "id": "wVhTfl3neQnL",
        "outputId": "56f49ac0-206c-4f69-d1f7-fd3113d7e74d"
      },
      "execution_count": 2,
      "outputs": [
        {
          "output_type": "stream",
          "name": "stdout",
          "text": [
            "4\n"
          ]
        }
      ]
    },
    {
      "cell_type": "code",
      "source": [
        "random.seed(42) # setam seed pt a avea toti aceleasi date"
      ],
      "metadata": {
        "id": "K-3QS8DkfAtp"
      },
      "execution_count": 4,
      "outputs": []
    },
    {
      "cell_type": "code",
      "source": [
        "image_index_arr = random.sample(range(0,9), 7)\n",
        "print(image_index_arr)"
      ],
      "metadata": {
        "colab": {
          "base_uri": "https://localhost:8080/"
        },
        "id": "T0VBZeMqf12F",
        "outputId": "32f81134-0a2b-4fc9-cc78-115226793e24"
      },
      "execution_count": 6,
      "outputs": [
        {
          "output_type": "stream",
          "name": "stdout",
          "text": [
            "[1, 0, 5, 2, 8, 4, 7]\n"
          ]
        }
      ]
    },
    {
      "cell_type": "code",
      "source": [
        "train_image_path = []\n",
        "test_image_path = []\n",
        "\n",
        "for hand_class_paths in file_path_arr:\n",
        "  # var temporare pt mentinerea claselor\n",
        "  tmp_train = []\n",
        "  tmp_test = []\n",
        "  for i in range(10):\n",
        "    if i not in image_index_arr:\n",
        "      tmp_test.append(hand_class_paths[i])\n",
        "    else:\n",
        "      tmp_train.append(hand_class_paths[i])\n",
        "  train_image_path.append(tmp_train)\n",
        "  test_image_path.append(tmp_test)\n",
        "\n",
        "print(np.shape(train_image_path))\n",
        "print(np.shape(test_image_path))"
      ],
      "metadata": {
        "colab": {
          "base_uri": "https://localhost:8080/",
          "height": 211
        },
        "id": "yimAI93FgJum",
        "outputId": "075d5b86-1e25-44f1-e498-e975c0ba28fa"
      },
      "execution_count": 10,
      "outputs": [
        {
          "output_type": "error",
          "ename": "TypeError",
          "evalue": "'int' object is not subscriptable",
          "traceback": [
            "\u001b[0;31m---------------------------------------------------------------------------\u001b[0m",
            "\u001b[0;31mTypeError\u001b[0m                                 Traceback (most recent call last)",
            "\u001b[0;32m/tmp/ipython-input-2018506658.py\u001b[0m in \u001b[0;36m<cell line: 0>\u001b[0;34m()\u001b[0m\n\u001b[1;32m     10\u001b[0m       \u001b[0mtmp_test\u001b[0m\u001b[0;34m.\u001b[0m\u001b[0mappend\u001b[0m\u001b[0;34m(\u001b[0m\u001b[0mhand_class\u001b[0m\u001b[0;34m[\u001b[0m\u001b[0mi\u001b[0m\u001b[0;34m]\u001b[0m\u001b[0;34m)\u001b[0m\u001b[0;34m\u001b[0m\u001b[0;34m\u001b[0m\u001b[0m\n\u001b[1;32m     11\u001b[0m     \u001b[0;32melse\u001b[0m\u001b[0;34m:\u001b[0m\u001b[0;34m\u001b[0m\u001b[0;34m\u001b[0m\u001b[0m\n\u001b[0;32m---> 12\u001b[0;31m       \u001b[0mtmp_train\u001b[0m\u001b[0;34m.\u001b[0m\u001b[0mappend\u001b[0m\u001b[0;34m(\u001b[0m\u001b[0mhand_class\u001b[0m\u001b[0;34m[\u001b[0m\u001b[0mi\u001b[0m\u001b[0;34m]\u001b[0m\u001b[0;34m)\u001b[0m\u001b[0;34m\u001b[0m\u001b[0;34m\u001b[0m\u001b[0m\n\u001b[0m\u001b[1;32m     13\u001b[0m   \u001b[0mtrain_image_path\u001b[0m\u001b[0;34m.\u001b[0m\u001b[0mappend\u001b[0m\u001b[0;34m(\u001b[0m\u001b[0mtmp_train\u001b[0m\u001b[0;34m)\u001b[0m\u001b[0;34m\u001b[0m\u001b[0;34m\u001b[0m\u001b[0m\n\u001b[1;32m     14\u001b[0m   \u001b[0mtest_image_path\u001b[0m\u001b[0;34m.\u001b[0m\u001b[0mappend\u001b[0m\u001b[0;34m(\u001b[0m\u001b[0mtmp_test\u001b[0m\u001b[0;34m)\u001b[0m\u001b[0;34m\u001b[0m\u001b[0;34m\u001b[0m\u001b[0m\n",
            "\u001b[0;31mTypeError\u001b[0m: 'int' object is not subscriptable"
          ]
        }
      ]
    },
    {
      "cell_type": "code",
      "source": [
        "train_test = []\n",
        "test_image = []\n",
        "\n",
        "for cls in train_image_path:\n",
        "  t = []\n",
        "  for i in cls:\n",
        "    t.apend(cv2.imread(i))\n",
        "  train_images.append(t)\n",
        "\n",
        "for cls in test_image_path:\n",
        "  t = []\n",
        "  for i in cls:\n",
        "    t.apend(cv2.imread(i))\n",
        "  test_images.append(t)\n",
        "\n",
        "\n",
        "print(np.shape(train_images))\n",
        "print(np.shape(test_images))\n",
        "# clase dimensiune canale"
      ],
      "metadata": {
        "id": "ZlXzbkdziIG4"
      },
      "execution_count": null,
      "outputs": []
    },
    {
      "cell_type": "code",
      "source": [
        "plt.figure(), plt.mshow(train_images[0][0])"
      ],
      "metadata": {
        "id": "OskEKyNZjcWq"
      },
      "execution_count": null,
      "outputs": []
    },
    {
      "cell_type": "code",
      "source": [
        "im = train_images[0][0]\n",
        "img_rgb = cv2.cvtColor(im, cv2.COLOR_BGR2RGB)\n",
        "plt.figure(), plt.mshow(train_images[0][0])"
      ],
      "metadata": {
        "id": "Wzt0ZxaHkTDv"
      },
      "execution_count": null,
      "outputs": []
    },
    {
      "cell_type": "code",
      "source": [
        "print(np.shape(img_rgb))"
      ],
      "metadata": {
        "id": "DNiPuL9rkhRQ"
      },
      "execution_count": null,
      "outputs": []
    },
    {
      "cell_type": "code",
      "source": [
        "# resize all\n",
        "# convert to correct color space\n",
        "\n",
        "def resize_and_convert(image, scale_factor = 10):\n",
        "  w, h, _ = np.shape(image)\n",
        "  im_resised = cv2.resize(image, (int(h/scale_factor), int(w/scale_factor)))\n",
        "  im_rgb = cv2.cvtColor(im_resised, cv2.COLOR_BGR2RGB)\n",
        "  return im_rgb"
      ],
      "metadata": {
        "id": "etGJUWrqlB-t"
      },
      "execution_count": null,
      "outputs": []
    },
    {
      "cell_type": "code",
      "source": [
        "for icls in enumerate(train_images):\n",
        "  for j,im in enumerate(cls):\n",
        "    train_image[i][j] = resize_and_convert(im)\n",
        "\n",
        "for icls in enumerate(test_images):\n",
        "  for j,im in enumerate(cls):\n",
        "    test_image[i][j] = resize_and_convert(im)"
      ],
      "metadata": {
        "id": "kCv7BSn0mSTA"
      },
      "execution_count": null,
      "outputs": []
    },
    {
      "cell_type": "code",
      "source": [
        "plt.figure(), plt.mshow(train_images[0][0])"
      ],
      "metadata": {
        "id": "m-D6PEpimrMw"
      },
      "execution_count": null,
      "outputs": []
    },
    {
      "cell_type": "code",
      "source": [],
      "metadata": {
        "id": "ZrJjbj3AnIhL"
      },
      "execution_count": null,
      "outputs": []
    }
  ]
}